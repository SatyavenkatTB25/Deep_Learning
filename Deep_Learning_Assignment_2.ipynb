{
  "nbformat": 4,
  "nbformat_minor": 0,
  "metadata": {
    "colab": {
      "provenance": []
    },
    "kernelspec": {
      "name": "python3",
      "display_name": "Python 3"
    },
    "language_info": {
      "name": "python"
    }
  },
  "cells": [
    {
      "cell_type": "markdown",
      "source": [
        "**Importing Libraries**"
      ],
      "metadata": {
        "id": "vD4TPLhQLfxs"
      }
    },
    {
      "cell_type": "code",
      "execution_count": 22,
      "metadata": {
        "id": "kZiZL5tLJ_8k"
      },
      "outputs": [],
      "source": [
        "# Import libraries\n",
        "import numpy as np\n",
        "import matplotlib.pyplot as plt\n",
        "import scipy\n",
        "from PIL import Image\n",
        "from scipy import ndimage\n",
        "from sklearn import datasets"
      ]
    },
    {
      "cell_type": "markdown",
      "source": [
        "**Loading and Splitting the Data**"
      ],
      "metadata": {
        "id": "HhfBpph1LckH"
      }
    },
    {
      "cell_type": "code",
      "source": [
        "# Loading the data\n",
        "digits = datasets.load_digits()\n",
        "images_and_labels = list(zip(digits.images, digits.target))\n",
        "\n",
        "train_set_x_orig = []\n",
        "train_set_y = []\n",
        "test_set_x_orig = []\n",
        "test_set_y = []\n",
        "classes = ['even', 'odd']\n",
        "\n",
        "data_size = len(images_and_labels)\n",
        "test_set_size = 200  # Setting the testset size\n",
        "\n",
        "# Splitting the data into training and test sets and assigning the labels (Even = 0, Odd = 1)\n",
        "for i in range(len(images_and_labels))[:-test_set_size]:\n",
        "    train_set_x_orig.append(images_and_labels[i][0])\n",
        "    if images_and_labels[i][1] % 2 == 0: ##if even put 0 as the label\n",
        "        train_set_y.append(0)\n",
        "    else: ##if odd put 1 as the label\n",
        "        train_set_y.append(1)\n",
        "\n",
        "for i in range(len(images_and_labels))[-test_set_size:]:\n",
        "    test_set_x_orig.append(images_and_labels[i][0])\n",
        "    if images_and_labels[i][1] % 2 == 0: ##if even put 0 as the label\n",
        "        test_set_y.append(0)\n",
        "    else: ##if odd put 1 as the label\n",
        "        test_set_y.append(1)\n",
        "\n",
        "train_set_x_orig = np.array(train_set_x_orig)\n",
        "train_set_y = np.array(train_set_y).reshape(1, data_size - test_set_size)\n",
        "test_set_x_orig = np.array(test_set_x_orig)\n",
        "test_set_y = np.array(test_set_y).reshape(1, test_set_size)\n",
        "\n",
        "print(train_set_x_orig.shape, train_set_y.shape, test_set_x_orig.shape, test_set_y.shape)\n"
      ],
      "metadata": {
        "colab": {
          "base_uri": "https://localhost:8080/"
        },
        "id": "a9JGb-0AKOrR",
        "outputId": "d5390195-694b-4faf-ef54-1939eea6f975"
      },
      "execution_count": 23,
      "outputs": [
        {
          "output_type": "stream",
          "name": "stdout",
          "text": [
            "(1597, 8, 8) (1, 1597) (200, 8, 8) (1, 200)\n"
          ]
        }
      ]
    },
    {
      "cell_type": "markdown",
      "source": [
        "**Visualizing a Training Example**"
      ],
      "metadata": {
        "id": "zCT0kHUlLXdr"
      }
    },
    {
      "cell_type": "code",
      "source": [
        "## Display an example from the data\n",
        "index = 1\n",
        "plt.imshow(train_set_x_orig[index])\n",
        "print(f\"y = {str(train_set_y[:, index])}, it's a '{classes[np.squeeze(train_set_y[:, index])]}'. \")\n"
      ],
      "metadata": {
        "colab": {
          "base_uri": "https://localhost:8080/",
          "height": 448
        },
        "id": "zcmcFzAsKVAG",
        "outputId": "85b9e747-afe0-47ac-9935-05baf905fc02"
      },
      "execution_count": 24,
      "outputs": [
        {
          "output_type": "stream",
          "name": "stdout",
          "text": [
            "y = [1], it's a 'odd'. \n"
          ]
        },
        {
          "output_type": "display_data",
          "data": {
            "text/plain": [
              "<Figure size 640x480 with 1 Axes>"
            ],
            "image/png": "[encoded data removed]"
          },
          "metadata": {}
        }
      ]
    },
    {
      "cell_type": "markdown",
      "source": [
        "**Flatten and Standardizing the Data**"
      ],
      "metadata": {
        "id": "kVjJDC_GLT5i"
      }
    },
    {
      "cell_type": "code",
      "source": [
        "m_train = train_set_y.shape[1]\n",
        "m_test = test_set_y.shape[1]\n",
        "num_px = train_set_x_orig.shape[2]\n",
        "\n",
        "##Description of the data\n",
        "print (\"Number of training examples: m_train = \" + str(m_train))\n",
        "print (\"Number of testing examples: m_test = \" + str(m_test))\n",
        "print (\"Height/Width of each image: num_px = \" + str(num_px))\n",
        "print (\"Each image is of size: (\" + str(num_px) + \", \" + str(num_px) + \")\")\n",
        "print (\"train_set_x shape: \" + str(train_set_x_orig.shape))\n",
        "print (\"train_set_y shape: \" + str(train_set_y.shape))\n",
        "print (\"test_set_x shape: \" + str(test_set_x_orig.shape))\n",
        "print (\"test_set_y shape: \" + str(test_set_y.shape))\n"
      ],
      "metadata": {
        "colab": {
          "base_uri": "https://localhost:8080/"
        },
        "id": "pQSIxxgYKcAO",
        "outputId": "3c3783e0-c83a-44f1-b0af-3a5bbda5371a"
      },
      "execution_count": 25,
      "outputs": [
        {
          "output_type": "stream",
          "name": "stdout",
          "text": [
            "Number of training examples: m_train = 1597\n",
            "Number of testing examples: m_test = 200\n",
            "Height/Width of each image: num_px = 8\n",
            "Each image is of size: (8, 8)\n",
            "train_set_x shape: (1597, 8, 8)\n",
            "train_set_y shape: (1, 1597)\n",
            "test_set_x shape: (200, 8, 8)\n",
            "test_set_y shape: (1, 200)\n"
          ]
        }
      ]
    },
    {
      "cell_type": "code",
      "source": [
        "# Reshape the training and test examples from 2D matrix to a 1D vector. The input vector of a neural network is always 1D\n",
        "train_set_x_flatten = train_set_x_orig.reshape(m_train, num_px * num_px).T\n",
        "test_set_x_flatten = test_set_x_orig.reshape(m_test, num_px * num_px).T\n",
        "\n",
        "# Print the description after reshaping\n",
        "print (\"train_set_x_flatten shape: \" + str(train_set_x_flatten.shape))\n",
        "print (\"train_set_y shape: \" + str(train_set_y.shape))\n",
        "print (\"test_set_x_flatten shape: \" + str(test_set_x_flatten.shape))\n",
        "print (\"test_set_y shape: \" + str(test_set_y.shape))\n",
        "\n",
        "# Standardize the data (pixel values between 0 and 1)\n",
        "train_set_x = train_set_x_flatten / 255.\n",
        "test_set_x = test_set_x_flatten / 255."
      ],
      "metadata": {
        "colab": {
          "base_uri": "https://localhost:8080/"
        },
        "id": "E8xFRxBANI54",
        "outputId": "7b304acf-4069-4044-c4d1-82e076c74ae6"
      },
      "execution_count": 26,
      "outputs": [
        {
          "output_type": "stream",
          "name": "stdout",
          "text": [
            "train_set_x_flatten shape: (64, 1597)\n",
            "train_set_y shape: (1, 1597)\n",
            "test_set_x_flatten shape: (64, 200)\n",
            "test_set_y shape: (1, 200)\n"
          ]
        }
      ]
    },
    {
      "cell_type": "markdown",
      "source": [
        "**Sigmoid Function**"
      ],
      "metadata": {
        "id": "4wWr4-ehLQpI"
      }
    },
    {
      "cell_type": "code",
      "source": [
        "# Implement sigmoid function\n",
        "def sigmoid(z):\n",
        "    s = 1 / (1 + np.exp(-z))\n",
        "    return s\n"
      ],
      "metadata": {
        "id": "QJxR2bTEKges"
      },
      "execution_count": 27,
      "outputs": []
    },
    {
      "cell_type": "markdown",
      "source": [
        "**Initializing the Parameters**"
      ],
      "metadata": {
        "id": "14udW_oNLOI_"
      }
    },
    {
      "cell_type": "code",
      "source": [
        "# Initialize weights and bias with zeros\n",
        "def initialize_with_zeros(dim):\n",
        "    w = np.zeros((dim, 1))\n",
        "    b = 0.0\n",
        "    assert(w.shape == (dim, 1))\n",
        "    assert(isinstance(b, float) or isinstance(b, int))\n",
        "    return w, b\n"
      ],
      "metadata": {
        "id": "AZK7S1ywKjGD"
      },
      "execution_count": 28,
      "outputs": []
    },
    {
      "cell_type": "markdown",
      "source": [
        "**Forward and Backward Propagation**"
      ],
      "metadata": {
        "id": "7zwb2uKZLJ7o"
      }
    },
    {
      "cell_type": "code",
      "source": [
        "# Implementing forward and backward propagation\n",
        "def propagate(w, b, X, Y):\n",
        "    m = X.shape[1]\n",
        "\n",
        "    # Forward propagation\n",
        "    A = sigmoid(np.dot(w.T, X) + b)\n",
        "    cost = (-1 / m) * np.sum(Y * np.log(A) + (1 - Y) * np.log(1 - A))\n",
        "\n",
        "    # Backward propagation\n",
        "    dw = (1 / m) * np.dot(X, (A - Y).T)\n",
        "    db = (1 / m) * np.sum(A - Y)\n",
        "\n",
        "    cost = np.squeeze(cost)\n",
        "\n",
        "    grads = {\"dw\": dw, \"db\": db}\n",
        "\n",
        "    return grads, cost\n"
      ],
      "metadata": {
        "id": "y--tysdmKlP7"
      },
      "execution_count": 29,
      "outputs": []
    },
    {
      "cell_type": "markdown",
      "source": [
        "**Gradient Descent Optimization**"
      ],
      "metadata": {
        "id": "1Ru9DmfrLFpd"
      }
    },
    {
      "cell_type": "code",
      "source": [
        "# Gradient descent optimization\n",
        "def optimize(w, b, X, Y, num_iterations, learning_rate, print_cost=False):\n",
        "    costs = []\n",
        "\n",
        "    for i in range(num_iterations):\n",
        "        grads, cost = propagate(w, b, X, Y)\n",
        "\n",
        "        dw = grads[\"dw\"]\n",
        "        db = grads[\"db\"]\n",
        "\n",
        "        w = w - learning_rate * dw\n",
        "        b = b - learning_rate * db\n",
        "\n",
        "        if i % 100 == 0:\n",
        "            costs.append(cost)\n",
        "\n",
        "        if print_cost and i % 100 == 0:\n",
        "            print(f\"Cost after iteration {i}: {cost}\")\n",
        "\n",
        "    params = {\"w\": w, \"b\": b}\n",
        "    grads = {\"dw\": dw, \"db\": db}\n",
        "\n",
        "    return params, grads, costs\n"
      ],
      "metadata": {
        "id": "hwdSrKo-KnrS"
      },
      "execution_count": 30,
      "outputs": []
    },
    {
      "cell_type": "markdown",
      "source": [
        "**Prediction Function**"
      ],
      "metadata": {
        "id": "Ud4X13i1LCE4"
      }
    },
    {
      "cell_type": "code",
      "source": [
        "# Prediction function\n",
        "def predict(w, b, X):\n",
        "    m = X.shape[1]\n",
        "    Y_prediction = np.zeros((1, m))\n",
        "    w = w.reshape(X.shape[0], 1)\n",
        "\n",
        "    A = sigmoid(np.dot(w.T, X) + b)\n",
        "\n",
        "    Y_prediction = (A >= 0.5).astype(int)\n",
        "\n",
        "    assert(Y_prediction.shape == (1, m))\n",
        "\n",
        "    return Y_prediction\n"
      ],
      "metadata": {
        "id": "BhOnOIvGKqaB"
      },
      "execution_count": 31,
      "outputs": []
    },
    {
      "cell_type": "markdown",
      "source": [
        "**Model Building**"
      ],
      "metadata": {
        "id": "1hHmcQRUK8F3"
      }
    },
    {
      "cell_type": "code",
      "source": [
        "# Building the model\n",
        "def model(X_train, Y_train, X_test, Y_test, num_iterations=2000, learning_rate=0.005, print_cost=False):\n",
        "    w, b = initialize_with_zeros(X_train.shape[0])\n",
        "\n",
        "    parameters, grads, costs = optimize(w, b, X_train, Y_train, num_iterations, learning_rate, print_cost)\n",
        "\n",
        "    w = parameters[\"w\"]\n",
        "    b = parameters[\"b\"]\n",
        "\n",
        "    Y_prediction_train = predict(w, b, X_train)\n",
        "    Y_prediction_test = predict(w, b, X_test)\n",
        "\n",
        "    print(f\"train accuracy: {100 - np.mean(np.abs(Y_prediction_train - Y_train)) * 100} %\")\n",
        "    print(f\"test accuracy: {100 - np.mean(np.abs(Y_prediction_test - Y_test)) * 100} %\")\n",
        "\n",
        "    d = {\"costs\": costs,\n",
        "         \"Y_prediction_test\": Y_prediction_test,\n",
        "         \"Y_prediction_train\": Y_prediction_train,\n",
        "         \"w\": w,\n",
        "         \"b\": b,\n",
        "         \"learning_rate\": learning_rate,\n",
        "         \"num_iterations\": num_iterations}\n",
        "\n",
        "    return d\n"
      ],
      "metadata": {
        "id": "4Zpwq_zYKszx"
      },
      "execution_count": 32,
      "outputs": []
    },
    {
      "cell_type": "markdown",
      "source": [
        "Training the Model"
      ],
      "metadata": {
        "id": "0AZ3bShPK5G3"
      }
    },
    {
      "cell_type": "code",
      "source": [
        "# Train the model\n",
        "d = model(train_set_x, train_set_y, test_set_x, test_set_y, num_iterations=2000, learning_rate=0.005, print_cost=True)\n"
      ],
      "metadata": {
        "colab": {
          "base_uri": "https://localhost:8080/"
        },
        "id": "B2W68aJ1KvX5",
        "outputId": "168e3c20-4ef7-47fb-e619-3798fc94e0c0"
      },
      "execution_count": 33,
      "outputs": [
        {
          "output_type": "stream",
          "name": "stdout",
          "text": [
            "Cost after iteration 0: 0.6931471805599451\n",
            "Cost after iteration 100: 0.6929905102389343\n",
            "Cost after iteration 200: 0.6928350450548796\n",
            "Cost after iteration 300: 0.6926805287119292\n",
            "Cost after iteration 400: 0.6925267636319519\n",
            "Cost after iteration 500: 0.6923735974996924\n",
            "Cost after iteration 600: 0.6922209128908674\n",
            "Cost after iteration 700: 0.6920686192768849\n",
            "Cost after iteration 800: 0.6919166468616496\n",
            "Cost after iteration 900: 0.6917649418306623\n",
            "Cost after iteration 1000: 0.6916134626887976\n",
            "Cost after iteration 1100: 0.6914621774372917\n",
            "Cost after iteration 1200: 0.6913110613976331\n",
            "Cost after iteration 1300: 0.6911600955341185\n",
            "Cost after iteration 1400: 0.6910092651608001\n",
            "Cost after iteration 1500: 0.6908585589447411\n",
            "Cost after iteration 1600: 0.6907079681376764\n",
            "Cost after iteration 1700: 0.6905574859837409\n",
            "Cost after iteration 1800: 0.6904071072629171\n",
            "Cost after iteration 1900: 0.6902568279391023\n",
            "train accuracy: 61.23982467125861 %\n",
            "test accuracy: 63.0 %\n"
          ]
        }
      ]
    },
    {
      "cell_type": "markdown",
      "source": [
        "**Predict and Visualize**"
      ],
      "metadata": {
        "id": "hZ7RyB_yKzYN"
      }
    },
    {
      "cell_type": "code",
      "source": [
        "# Predicting an image from the test set\n",
        "index = 65  # Choosing an index to visualize\n",
        "plt.imshow(test_set_x[:, index].reshape((num_px, num_px)))\n",
        "print(f\"y = {test_set_y[0, index]}, predicted: {classes[d['Y_prediction_test'][0, index]]}\")\n",
        "\n",
        "# Plotting the cost\n",
        "costs = np.squeeze(d['costs'])\n",
        "plt.plot(costs)\n",
        "plt.ylabel('cost')\n",
        "plt.xlabel('iterations (per hundreds)')\n",
        "plt.title(f\"Learning rate = {d['learning_rate']}\")\n",
        "plt.show()\n"
      ],
      "metadata": {
        "colab": {
          "base_uri": "https://localhost:8080/",
          "height": 314
        },
        "id": "WMjd3DpaKyIo",
        "outputId": "94031ee3-b509-4100-deb8-cdfbfa92f083"
      },
      "execution_count": 34,
      "outputs": [
        {
          "output_type": "stream",
          "name": "stdout",
          "text": [
            "y = 1, predicted: odd\n"
          ]
        },
        {
          "output_type": "display_data",
          "data": {
            "text/plain": [
              "<Figure size 640x480 with 1 Axes>"
            ],
            "image/png": "[encoded data removed]"
          },
          "metadata": {}
        }
      ]
    },
    {
      "cell_type": "code",
      "source": [
        "# Predictting an image from the test set and visualize it\n",
        "index = 65  # Choosing an index to visualize\n",
        "plt.figure(figsize=(8, 8))\n",
        "plt.imshow(test_set_x[:, index].reshape((num_px, num_px)))\n",
        "plt.title(f\"y = {test_set_y[0, index]}, predicted: {classes[d['Y_prediction_test'][0, index]]}\")\n",
        "plt.show()\n",
        "\n"
      ],
      "metadata": {
        "colab": {
          "base_uri": "https://localhost:8080/",
          "height": 699
        },
        "id": "8kSgXReGQmaf",
        "outputId": "a252aaae-a54d-4739-ab67-44a4202c94c7"
      },
      "execution_count": 35,
      "outputs": [
        {
          "output_type": "display_data",
          "data": {
            "text/plain": [
              "<Figure size 800x800 with 1 Axes>"
            ],
            "image/png": "[encoded data removed]"
          },
          "metadata": {}
        }
      ]
    },
    {
      "cell_type": "code",
      "source": [
        "# Plot the cost vs. iterations\n",
        "costs = np.squeeze(d['costs'])\n",
        "plt.figure(figsize=(8, 5))\n",
        "plt.plot(costs)  # Plotting the cost function\n",
        "plt.ylabel('Cost')\n",
        "plt.xlabel('Iterations (per hundreds)')\n",
        "plt.title(f\"Learning rate = {d['learning_rate']}\")\n",
        "plt.show()\n"
      ],
      "metadata": {
        "colab": {
          "base_uri": "https://localhost:8080/",
          "height": 487
        },
        "id": "-Fx9NxIffaDm",
        "outputId": "78466bb7-5afb-46ea-fd2b-56a071b51068"
      },
      "execution_count": 36,
      "outputs": [
        {
          "output_type": "display_data",
          "data": {
            "text/plain": [
              "<Figure size 800x500 with 1 Axes>"
            ],
            "image/png": "[encoded data removed]"
          },
          "metadata": {}
        }
      ]
    }
  ]
}
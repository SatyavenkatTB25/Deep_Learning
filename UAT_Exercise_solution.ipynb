{
  "nbformat": 4,
  "nbformat_minor": 0,
  "metadata": {
    "colab": {
      "provenance": []
    },
    "kernelspec": {
      "name": "python3",
      "display_name": "Python 3"
    },
    "language_info": {
      "name": "python"
    }
  },
  "cells": [
    {
      "cell_type": "code",
      "execution_count": 1,
      "metadata": {
        "id": "XU08_Iospjq_"
      },
      "outputs": [],
      "source": [
        "import numpy as np\n",
        "\n",
        "def target_function(x):\n",
        "  return x**3 - 2*x**2 + 3*x - 1\n",
        "\n",
        "x_train = np.random.uniform(-5, 5, 1000)\n",
        "y_train = target_function(x_train)"
      ]
    },
    {
      "cell_type": "code",
      "source": [
        "x_train.shape"
      ],
      "metadata": {
        "colab": {
          "base_uri": "https://localhost:8080/"
        },
        "id": "PFKO6j8zp52g",
        "outputId": "20e0986d-6471-4921-a454-24be674fbd05"
      },
      "execution_count": 4,
      "outputs": [
        {
          "output_type": "execute_result",
          "data": {
            "text/plain": [
              "(1000,)"
            ]
          },
          "metadata": {},
          "execution_count": 4
        }
      ]
    },
    {
      "cell_type": "code",
      "source": [
        "y_train.shape"
      ],
      "metadata": {
        "colab": {
          "base_uri": "https://localhost:8080/"
        },
        "id": "cR4gfi3ep-4h",
        "outputId": "7223126c-3742-4e4a-9777-4b98ed8ffab8"
      },
      "execution_count": 5,
      "outputs": [
        {
          "output_type": "execute_result",
          "data": {
            "text/plain": [
              "(1000,)"
            ]
          },
          "metadata": {},
          "execution_count": 5
        }
      ]
    },
    {
      "cell_type": "code",
      "source": [
        "def error(y_true, y_pred):\n",
        "    return np.sqrt(np.mean((y_true - y_pred)**2))"
      ],
      "metadata": {
        "id": "t9cWjUBlsgjE"
      },
      "execution_count": 13,
      "outputs": []
    },
    {
      "cell_type": "markdown",
      "source": [
        "### Model A"
      ],
      "metadata": {
        "id": "2Oe4hB9QF4d_"
      }
    },
    {
      "cell_type": "code",
      "source": [
        "input_dim = 1\n",
        "hidden_neurons = 3\n",
        "output_dim = 1\n",
        "W1 = np.ones((input_dim, hidden_neurons))  # Weights for input to hidden layer\n",
        "b1 = np.ones((1, hidden_neurons))          # Biases for hidden layer\n",
        "W2 = np.ones((hidden_neurons, output_dim)) # Weights for hidden to output layer\n",
        "b2 = np.ones((1, output_dim))              # Biases for output layer"
      ],
      "metadata": {
        "id": "JFpHetyUrNGO"
      },
      "execution_count": 21,
      "outputs": []
    },
    {
      "cell_type": "code",
      "source": [
        "def relu(x):\n",
        "    return np.maximum(0, x)"
      ],
      "metadata": {
        "id": "onBlGfATrqTY"
      },
      "execution_count": 22,
      "outputs": []
    },
    {
      "cell_type": "code",
      "source": [
        "def shallow_model(x):\n",
        "    Z1 = np.dot(x, W1) + b1\n",
        "    A1 = relu(Z1)\n",
        "    Z2 = np.dot(A1, W2) + b2\n",
        "    return Z2"
      ],
      "metadata": {
        "id": "3wQ96jRyqHYi"
      },
      "execution_count": 23,
      "outputs": []
    },
    {
      "cell_type": "code",
      "source": [
        "x_test = np.random.uniform(-5, 5, 100).reshape(-1, 1)\n",
        "y_test = target_function(x_test)\n",
        "y_pred = shallow_model(x_test)"
      ],
      "metadata": {
        "id": "6SZ16JRcrlja"
      },
      "execution_count": 24,
      "outputs": []
    },
    {
      "cell_type": "code",
      "source": [
        "error(y_test,y_pred)"
      ],
      "metadata": {
        "colab": {
          "base_uri": "https://localhost:8080/"
        },
        "id": "KLGAQwX8r0yA",
        "outputId": "82e9fde8-d1f4-418e-ad73-ddc1bf48eab2"
      },
      "execution_count": 25,
      "outputs": [
        {
          "output_type": "execute_result",
          "data": {
            "text/plain": [
              "63.74301171904766"
            ]
          },
          "metadata": {},
          "execution_count": 25
        }
      ]
    },
    {
      "cell_type": "markdown",
      "source": [
        "### Model B"
      ],
      "metadata": {
        "id": "sEiOnJ5OF8aI"
      }
    },
    {
      "cell_type": "code",
      "source": [
        "hidden_neurons_1 = 1\n",
        "hidden_neurons_2 = 1\n",
        "hidden_neurons_3 = 1\n",
        "\n",
        "W1 = np.ones((input_dim, hidden_neurons_1))\n",
        "b1 = np.ones((1, hidden_neurons_1))\n",
        "W2 = np.ones((hidden_neurons_1, hidden_neurons_2))\n",
        "b2 = np.ones((1, hidden_neurons_2))\n",
        "W3 = np.ones((hidden_neurons_2, hidden_neurons_3))\n",
        "b3 = np.ones((1, hidden_neurons_3))\n",
        "W4 = np.ones((hidden_neurons_3, output_dim))\n",
        "b4 = np.ones((1, output_dim))"
      ],
      "metadata": {
        "id": "TYy2vfN0smy_"
      },
      "execution_count": 26,
      "outputs": []
    },
    {
      "cell_type": "code",
      "source": [
        "def deep_model(x):\n",
        "    Z1 = np.dot(x, W1) + b1\n",
        "    A1 = relu(Z1)\n",
        "    Z2 = np.dot(A1, W2) + b2\n",
        "    A2 = relu(Z2)\n",
        "    Z3 = np.dot(A2, W3) + b3\n",
        "    A3 = relu(Z3)\n",
        "    Z4 = np.dot(A3, W4) + b4\n",
        "    return Z4"
      ],
      "metadata": {
        "id": "8a2hW68Osz1_"
      },
      "execution_count": 27,
      "outputs": []
    },
    {
      "cell_type": "code",
      "source": [
        "x_test = np.random.uniform(-5, 5, 100).reshape(-1, 1)\n",
        "y_test = target_function(x_test)\n",
        "y_pred = deep_model(x_test)"
      ],
      "metadata": {
        "id": "rAIGwYx0s2nf"
      },
      "execution_count": 28,
      "outputs": []
    },
    {
      "cell_type": "code",
      "source": [
        "error(y_test,y_pred)"
      ],
      "metadata": {
        "colab": {
          "base_uri": "https://localhost:8080/"
        },
        "id": "E6ZYSjFNs8DW",
        "outputId": "ccdc18b9-7731-450a-c7fd-6c4e4ddfeebe"
      },
      "execution_count": 29,
      "outputs": [
        {
          "output_type": "execute_result",
          "data": {
            "text/plain": [
              "58.222403797002286"
            ]
          },
          "metadata": {},
          "execution_count": 29
        }
      ]
    },
    {
      "cell_type": "code",
      "source": [],
      "metadata": {
        "id": "2cVkoOPitGK2"
      },
      "execution_count": null,
      "outputs": []
    }
  ]
}